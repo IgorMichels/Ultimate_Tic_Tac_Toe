{
 "cells": [
  {
   "cell_type": "code",
   "execution_count": 5,
   "metadata": {},
   "outputs": [],
   "source": [
    "import numpy as np\n",
    "import tensorflow as tf\n",
    "\n",
    "from game import play_step\n",
    "from utils import generate_board\n",
    "from players import trained_player\n",
    "from game_display import print_board\n",
    "\n",
    "from IPython.display import clear_output"
   ]
  },
  {
   "cell_type": "code",
   "execution_count": 6,
   "metadata": {},
   "outputs": [],
   "source": [
    "learning_rate = 0.001\n",
    "gamma = 0.99\n",
    "num_epochs = 1000\n",
    "batch_size = 32\n",
    "eps = .2\n",
    "\n",
    "actor_model = tf.keras.Sequential([\n",
    "    tf.keras.layers.Dense(64, activation='relu', input_shape=(90,)),\n",
    "    tf.keras.layers.Dense(32, activation='relu'),\n",
    "    tf.keras.layers.Dense(81, activation='softmax')\n",
    "])\n",
    "\n",
    "critic_model = tf.keras.Sequential([\n",
    "    tf.keras.layers.Dense(64, activation='relu', input_shape=(90,)),\n",
    "    tf.keras.layers.Dense(32, activation='relu'),\n",
    "    tf.keras.layers.Dense(1)\n",
    "])"
   ]
  },
  {
   "cell_type": "code",
   "execution_count": 7,
   "metadata": {},
   "outputs": [],
   "source": [
    "actor_optimizer = tf.keras.optimizers.legacy.Adam(learning_rate)\n",
    "critic_optimizer = tf.keras.optimizers.legacy.Adam(learning_rate)\n",
    "\n",
    "def actor_loss(action_probabilities, advantages):\n",
    "    action_log_prob = -tf.math.log(action_probabilities)\n",
    "    actor_loss = tf.reduce_sum(action_log_prob * advantages)\n",
    "    return actor_loss\n",
    "\n",
    "def critic_loss(values, returns):\n",
    "    critic_loss = tf.reduce_mean(tf.square(returns - values))\n",
    "    return critic_loss"
   ]
  },
  {
   "cell_type": "code",
   "execution_count": 10,
   "metadata": {},
   "outputs": [
    {
     "name": "stdout",
     "output_type": "stream",
     "text": [
      " X |   | X ||   |   | O ||   OOOOO   \n",
      "---+---+---||---+---+---||  O     O  \n",
      "   |   | O || X |   |   ||  O     O  \n",
      "---+---+---||---+---+---||  O     O  \n",
      "   |   | X ||   | X | X ||   OOOOO   \n",
      "===========++===========++===========\n",
      "   OOOOO   ||   | O | X ||   |   | O \n",
      "  O     O  ||---+---+---||---+---+---\n",
      "  O     O  || X | O |   ||   | X |   \n",
      "  O     O  ||---+---+---||---+---+---\n",
      "   OOOOO   || X |   |   || X | X |   \n",
      "===========++===========++===========\n",
      "   OOOOO   ||   OOOOO   ||   OOOOO   \n",
      "  O     O  ||  O     O  ||  O     O  \n",
      "  O     O  ||  O     O  ||  O     O  \n",
      "  O     O  ||  O     O  ||  O     O  \n",
      "   OOOOO   ||   OOOOO   ||   OOOOO   \n"
     ]
    }
   ],
   "source": [
    "all_board, global_board = generate_board()\n",
    "i, j = None, None\n",
    "reward = 1\n",
    "other_reward = 1\n",
    "while reward == 1 and other_reward == 1:\n",
    "    new_state = trained_player(all_board, global_board, i, j, actor_model, eps)\n",
    "    all_board, global_board, reward, i, j = play_step(all_board, global_board, new_state, player = 0)\n",
    "    if reward != 1: break\n",
    "    all_board, global_board, other_reward, i, j = play_step(all_board, global_board, (i, j), player = 1)\n",
    "    clear_output()\n",
    "    print_board(all_board, global_board)\n",
    "    input()\n",
    "\n",
    "clear_output()\n",
    "print_board(all_board, global_board)\n"
   ]
  },
  {
   "cell_type": "code",
   "execution_count": 9,
   "metadata": {},
   "outputs": [
    {
     "name": "stdout",
     "output_type": "stream",
     "text": [
      "   X   X   ||   X   X   ||   OOOOO   \n",
      "    X X    ||    X X    ||  O     O  \n",
      "     X     ||     X     ||  O     O  \n",
      "    X X    ||    X X    ||  O     O  \n",
      "   X   X   ||   X   X   ||   OOOOO   \n",
      "===========++===========++===========\n",
      "   OOOOO   ||   X   X   || O |   | O \n",
      "  O     O  ||    X X    ||---+---+---\n",
      "  O     O  ||     X     ||   | X |   \n",
      "  O     O  ||    X X    ||---+---+---\n",
      "   OOOOO   ||   X   X   ||   | X | O \n",
      "===========++===========++===========\n",
      "   OOOOO   || X | X | O ||   X   X   \n",
      "  O     O  ||---+---+---||    X X    \n",
      "  O     O  || O | X |   ||     X     \n",
      "  O     O  ||---+---+---||    X X    \n",
      "   OOOOO   || X | O | O ||   X   X   \n"
     ]
    }
   ],
   "source": [
    "print_board(all_board, global_board)"
   ]
  }
 ],
 "metadata": {
  "kernelspec": {
   "display_name": "Python 3",
   "language": "python",
   "name": "python3"
  },
  "language_info": {
   "codemirror_mode": {
    "name": "ipython",
    "version": 3
   },
   "file_extension": ".py",
   "mimetype": "text/x-python",
   "name": "python",
   "nbconvert_exporter": "python",
   "pygments_lexer": "ipython3",
   "version": "3.8.12"
  },
  "orig_nbformat": 4,
  "vscode": {
   "interpreter": {
    "hash": "68a818ea200cf26246555ed215b2805781440e4bd9c1dd7c5d891140b3a1e7c0"
   }
  }
 },
 "nbformat": 4,
 "nbformat_minor": 2
}
